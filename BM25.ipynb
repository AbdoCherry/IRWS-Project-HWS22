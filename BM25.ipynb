{
 "cells": [
  {
   "cell_type": "code",
   "execution_count": null,
   "id": "7f3ddc18",
   "metadata": {},
   "outputs": [],
   "source": [
    "#caculate TfidfVectorizer for each query\n",
    "\n",
    "cos_sim_combined = pd.DataFrame()\n",
    "\n",
    "for idx, query in queries['keywords'].iteritems():  \n",
    "    # create dataframe with query terms as columns and term frequency (always 1) as value\n",
    "    query_tf = pd.DataFrame(dict(zip(query, [[1] for i in query])), index=[-1])\n",
    "    # concat with corpus tf-idf dataframe\n",
    "    query_words_only = pd.concat([query_tf, corpus_tf_idf_df])\n",
    "    # drop columns of words that don't exist in the query\n",
    "    query_words_only = query_words_only.fillna(0)\n",
    "    bool_vec = query_words_only.loc[-1, :].astype(bool)\n",
    "    query_words_only = query_words_only.loc[:, bool_vec]\n",
    "    # drop query tf column\n",
    "    query_words_only = query_words_only.drop(index=[-1])\n",
    "    # calculate cosine similarities\n",
    "    cos_sim = cosine_similarity(query_tf, query_words_only)[0]\n",
    "    cos_sim = pd.Series(cos_sim, index=query_words_only.index, name=idx)\n",
    "    cos_sim_combined = pd.concat([cos_sim_combined, cos_sim], axis=1)\n",
    "\n",
    "cos_sim_combined.index.name = 'page_id'\n",
    "cos_sim_combined.columns.name = 'query_id'\n",
    "\n",
    "cos_sim_combined.head()\n",
    "\n",
    "# rank documents by:\n",
    "# - the cosine similarity of the tf-idf vectors of the queries and documents text\n",
    "\n",
    "cos_sim_combined = cos_sim_combined.sort_values(by=cos_sim_combined.columns, ascending=False)\n",
    "\n",
    "cos_sim_combined.head()\n",
    "\n",
    "# create file containing top 500 documents for each query\n"
   ]
  }
 ],
 "metadata": {
  "kernelspec": {
   "display_name": "Python 3 (ipykernel)",
   "language": "python",
   "name": "python3"
  },
  "language_info": {
   "codemirror_mode": {
    "name": "ipython",
    "version": 3
   },
   "file_extension": ".py",
   "mimetype": "text/x-python",
   "name": "python",
   "nbconvert_exporter": "python",
   "pygments_lexer": "ipython3",
   "version": "3.9.7"
  }
 },
 "nbformat": 4,
 "nbformat_minor": 5
}
