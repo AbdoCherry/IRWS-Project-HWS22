{
 "cells": [
  {
   "cell_type": "markdown",
   "id": "e6d83f0b-835f-4dc6-ad98-2458a5ae41f8",
   "metadata": {},
   "source": [
    "# Data Preprocsesing"
   ]
  },
  {
   "cell_type": "code",
   "execution_count": 1,
   "id": "731b8692",
   "metadata": {},
   "outputs": [
    {
     "name": "stderr",
     "output_type": "stream",
     "text": [
      "[nltk_data] Downloading package stopwords to\n",
      "[nltk_data]     /home/ma/ma_ma/ma_fvogl/nltk_data...\n",
      "[nltk_data]   Package stopwords is already up-to-date!\n",
      "[nltk_data] Downloading package punkt to\n",
      "[nltk_data]     /home/ma/ma_ma/ma_fvogl/nltk_data...\n",
      "[nltk_data]   Package punkt is already up-to-date!\n"
     ]
    }
   ],
   "source": [
    "# Loading necessary libraries\n",
    "import pandas as pd\n",
    "import string\n",
    "import re\n",
    "import nltk\n",
    "nltk.download('stopwords')\n",
    "nltk.download('punkt')\n",
    "# Comment two lines below out if not packages 'wordnet' & 'omw-1.4' not available \n",
    "# nltk.download('wordnet')\n",
    "# nltk.download('omw-1.4')\n",
    "from nltk import word_tokenize, pos_tag\n",
    "from nltk.corpus import stopwords, wordnet\n",
    "from nltk.stem import WordNetLemmatizer\n",
    "from nltk.stem.porter import PorterStemmer"
   ]
  },
  {
   "cell_type": "code",
   "execution_count": 2,
   "id": "276bd274-c88f-4083-a9e0-9118f0acd96e",
   "metadata": {},
   "outputs": [],
   "source": [
    "# functions used for preprocessing\n",
    "\n",
    "def tokenize_words(plain_text):\n",
    "    tokenized_text = word_tokenize(plain_text)\n",
    "    return tokenized_text\n",
    "\n",
    "def remove_punctuations(plain_text):\n",
    "    punctiations = string.punctuation\n",
    "    return plain_text.translate(str.maketrans('', '', punctiations))\n",
    "\n",
    "STOPWORDS = set(stopwords.words('english'))\n",
    "def remove_stopwords(plain_text):\n",
    "    return ' '.join([word for word in plain_text.split() if word not in STOPWORDS])\n",
    "\n",
    "def remove_spec_char(plain_text):\n",
    "    plain_text = re.sub('[^a-zA-Z0-9]', ' ', plain_text)\n",
    "    plain_text = re.sub('\\s+', ' ', plain_text)\n",
    "    return plain_text\n",
    "\n",
    "lemmatizer = WordNetLemmatizer()\n",
    "wordnet_map = {'N':wordnet.NOUN, 'V':wordnet.VERB, 'J':wordnet.ADJ, 'R':wordnet.ADV}\n",
    "def lemmatize_word(plain_text):\n",
    "    # Finind pos tags\n",
    "    pos_text = pos_tag(plain_text.split())\n",
    "    return ' '.join([lemmatizer.lemmatize(word, wordnet_map.get(pos[0], wordnet.NOUN)) for word, pos in pos_text])\n",
    "\n",
    "ps = PorterStemmer()\n",
    "def stem_words(plain_text):\n",
    "    return ' '.join([ps.stem(word) for word in plain_text.split()])"
   ]
  },
  {
   "cell_type": "code",
   "execution_count": null,
   "id": "3fcba471-3449-479a-a7a4-796ed66fbdb8",
   "metadata": {},
   "outputs": [
    {
     "name": "stdout",
     "output_type": "stream",
     "text": [
      "chunk 43 / 65... lowercasing... removing punctuation... removing stopwords... removing special chars... stemming... "
     ]
    }
   ],
   "source": [
    "# log file containing last successfully preprocessed chunk index\n",
    "# in case of the cluster shutting down or errors occuring the preprocessing does not need to start from the beging\n",
    "logfile_path = 'data/chunks_log.txt'\n",
    "try:\n",
    "    f = open(logfile_path, \"r\")\n",
    "    last_chunk_idx = int(f.read())\n",
    "    f.close()\n",
    "except FileNotFoundError:\n",
    "    last_chunk_idx = -1\n",
    "\n",
    "# ========= Generate iterator loading 100000 lines each time =========\n",
    "df_iterator = pd.read_json('data/trec_corpus_20220301_plain.json', lines=True, chunksize=100000)\n",
    "\n",
    "# ========= iterate over chunks =========\n",
    "for i, df_chunk in enumerate(df_iterator):\n",
    "    # skip chunk if preprocessing is already done for this chunk\n",
    "    if i <= last_chunk_idx:\n",
    "        continue\n",
    "        \n",
    "    # progress indication\n",
    "    print(f'chunk {i+1} / 65...', end=' ')\n",
    "\n",
    "    # ========= Dropping url-column =========\n",
    "    df_chunk.drop(columns=['url'], inplace=True, axis=1)\n",
    "    \n",
    "    # ========= Concatenating title column with plain-text column =========\n",
    "    df_chunk['plain-text'] = df_chunk['title'].astype(str) + ' ' + df_chunk['plain'].astype(str)\n",
    "    df_chunk.drop(['title', 'plain'], axis = 1, inplace = True)\n",
    "    df_chunk.rename(columns = {'plain-text' : 'plain'}, inplace = True)\n",
    "    \n",
    "    print('lowercasing...', end=' ')\n",
    "    # ========= Lower case whole column =========\n",
    "    df_chunk['plain'] = df_chunk['plain'].str.lower()\n",
    "    df_chunk.sample(frac = 1).head()\n",
    "    \n",
    "    # ========= Tokenization =========\n",
    "    #df_chunk['plain'] = df_chunk['plain'].apply(lambda x: tokenize_words(x))\n",
    "    \n",
    "    # ========= Removing punctuations =========\n",
    "    print('removing punctuation...', end=' ')\n",
    "    df_chunk['plain'] = df_chunk['plain'].apply(lambda x : remove_punctuations(x))\n",
    "\n",
    "    # ========= Removing stopwords =========\n",
    "    print('removing stopwords...', end=' ')\n",
    "    df_chunk['plain'] = df_chunk['plain'].apply(lambda x: remove_stopwords(x))\n",
    "\n",
    "    # ========= Removing special characters =========\n",
    "    print('removing special chars...', end=' ')\n",
    "    df_chunk['plain'] = df_chunk['plain'].apply(lambda x : remove_spec_char(x))\n",
    "\n",
    "    # ========= Lemmatization =========\n",
    "    #print('lemmatization...', end=' ')\n",
    "    #df_chunk['plain'] = df_chunk['plain'].apply(lambda x : lemmatize_word(x))\n",
    "    \n",
    "    # ========= Stemming =========\n",
    "    print('stemming...', end=' ')\n",
    "    df_chunk['plain'] = df_chunk['plain'].apply(lambda x : stem_words(x))\n",
    "    \n",
    "    # ========= write to file =========\n",
    "    print('write to file.')\n",
    "    # Set writing mode to append after first chunk\n",
    "    mode = 'w' if i == 0 else 'a'\n",
    "    # Add header if it is the first chunk\n",
    "    header = i == 0\n",
    "    df_chunk.to_csv(\n",
    "        \"data/preprocessed_corpus.csv\",\n",
    "        index=False,\n",
    "        header=header, \n",
    "        mode=mode)\n",
    "    \n",
    "    # write chunk index to log file\n",
    "    f = open(logfile_path, \"w\")\n",
    "    f.write(str(i))\n",
    "    f.close()"
   ]
  }
 ],
 "metadata": {
  "kernelspec": {
   "display_name": "Python 3 (ipykernel)",
   "language": "python",
   "name": "python3"
  },
  "language_info": {
   "codemirror_mode": {
    "name": "ipython",
    "version": 3
   },
   "file_extension": ".py",
   "mimetype": "text/x-python",
   "name": "python",
   "nbconvert_exporter": "python",
   "pygments_lexer": "ipython3",
   "version": "3.8.6"
  },
  "vscode": {
   "interpreter": {
    "hash": "f41925ae1994f5fc38598add9a8aab6b752964107725e1bd6b4144c42565ad7a"
   }
  }
 },
 "nbformat": 4,
 "nbformat_minor": 5
}
