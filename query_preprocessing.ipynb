{
 "cells": [
  {
   "cell_type": "markdown",
   "id": "e6d83f0b-835f-4dc6-ad98-2458a5ae41f8",
   "metadata": {},
   "source": [
    "# Query Preprocsesing"
   ]
  },
  {
   "cell_type": "code",
   "execution_count": 1,
   "id": "90536d65-1e1f-465a-8e6a-9b05c075044b",
   "metadata": {},
   "outputs": [
    {
     "name": "stdout",
     "output_type": "stream",
     "text": [
      "Defaulting to user installation because normal site-packages is not writeable\n",
      "Requirement already satisfied: nltk in /pfs/data5/home/ma/ma_ma/ma_fvogl/.local/lib/python3.8/site-packages (3.7)\n",
      "Requirement already satisfied: regex>=2021.8.3 in /pfs/data5/home/ma/ma_ma/ma_fvogl/.local/lib/python3.8/site-packages (from nltk) (2022.10.31)\n",
      "Requirement already satisfied: joblib in /pfs/data5/software_uc2/bwhpc/common/jupyter/tensorflow/2022-03-30/lib/python3.8/site-packages (from nltk) (1.1.0)\n",
      "Requirement already satisfied: click in /pfs/data5/software_uc2/bwhpc/common/jupyter/tensorflow/2022-03-30/lib/python3.8/site-packages (from nltk) (8.1.1)\n",
      "Requirement already satisfied: tqdm in /pfs/data5/software_uc2/bwhpc/common/jupyter/tensorflow/2022-03-30/lib/python3.8/site-packages (from nltk) (4.63.1)\n",
      "\u001b[33mWARNING: You are using pip version 22.0.4; however, version 22.3.1 is available.\n",
      "You should consider upgrading via the '/opt/bwhpc/common/jupyter/tensorflow/2022-03-30/bin/python3.8 -m pip install --upgrade pip' command.\u001b[0m\u001b[33m\n",
      "\u001b[0mNote: you may need to restart the kernel to use updated packages.\n"
     ]
    }
   ],
   "source": [
    "pip install nltk"
   ]
  },
  {
   "cell_type": "code",
   "execution_count": 2,
   "id": "731b8692",
   "metadata": {},
   "outputs": [],
   "source": [
    "# Loading necessary libraries\n",
    "import pandas as pd\n",
    "import nltk\n",
    "from nltk.stem.porter import PorterStemmer"
   ]
  },
  {
   "cell_type": "code",
   "execution_count": 3,
   "id": "db0490c1",
   "metadata": {},
   "outputs": [
    {
     "data": {
      "text/html": [
       "<div>\n",
       "<style scoped>\n",
       "    .dataframe tbody tr th:only-of-type {\n",
       "        vertical-align: middle;\n",
       "    }\n",
       "\n",
       "    .dataframe tbody tr th {\n",
       "        vertical-align: top;\n",
       "    }\n",
       "\n",
       "    .dataframe thead th {\n",
       "        text-align: right;\n",
       "    }\n",
       "</style>\n",
       "<table border=\"1\" class=\"dataframe\">\n",
       "  <thead>\n",
       "    <tr style=\"text-align: right;\">\n",
       "      <th></th>\n",
       "      <th>id</th>\n",
       "      <th>keywords</th>\n",
       "      <th>title</th>\n",
       "      <th>rel_docs</th>\n",
       "    </tr>\n",
       "  </thead>\n",
       "  <tbody>\n",
       "    <tr>\n",
       "      <th>0</th>\n",
       "      <td>84</td>\n",
       "      <td>['cultivated', 'agricultural', 'maize', 'corn'...</td>\n",
       "      <td>Agriculture</td>\n",
       "      <td>[572, 627, 678, 903, 1193, 1542, 1634, 3751, 3...</td>\n",
       "    </tr>\n",
       "    <tr>\n",
       "      <th>1</th>\n",
       "      <td>111</td>\n",
       "      <td>['reptile', 'lizard', 'salamander', 'fossil', ...</td>\n",
       "      <td>Amphibians and Reptiles</td>\n",
       "      <td>[621, 809, 1380, 6641, 8311, 8937, 13134, 1446...</td>\n",
       "    </tr>\n",
       "    <tr>\n",
       "      <th>2</th>\n",
       "      <td>265</td>\n",
       "      <td>['astronomer', 'astronomy', 'astrophysicist', ...</td>\n",
       "      <td>Astronomy</td>\n",
       "      <td>[39, 308, 580, 664, 736, 748, 791, 798, 799, 1...</td>\n",
       "    </tr>\n",
       "    <tr>\n",
       "      <th>3</th>\n",
       "      <td>323</td>\n",
       "      <td>['aviation', 'airfield', 'airport', 'aerospace...</td>\n",
       "      <td>Aviation</td>\n",
       "      <td>[849, 852, 1293, 1902, 1942, 2039, 2075, 2082,...</td>\n",
       "    </tr>\n",
       "    <tr>\n",
       "      <th>4</th>\n",
       "      <td>396</td>\n",
       "      <td>['actor', 'cast', 'screenwriter', 'filmmaker',...</td>\n",
       "      <td>Biography/WikiProject Actors and Filmmakers</td>\n",
       "      <td>[344, 676, 808, 872, 1247, 1806, 1828, 2083, 2...</td>\n",
       "    </tr>\n",
       "  </tbody>\n",
       "</table>\n",
       "</div>"
      ],
      "text/plain": [
       "    id                                           keywords  \\\n",
       "0   84  ['cultivated', 'agricultural', 'maize', 'corn'...   \n",
       "1  111  ['reptile', 'lizard', 'salamander', 'fossil', ...   \n",
       "2  265  ['astronomer', 'astronomy', 'astrophysicist', ...   \n",
       "3  323  ['aviation', 'airfield', 'airport', 'aerospace...   \n",
       "4  396  ['actor', 'cast', 'screenwriter', 'filmmaker',...   \n",
       "\n",
       "                                         title  \\\n",
       "0                                  Agriculture   \n",
       "1                      Amphibians and Reptiles   \n",
       "2                                    Astronomy   \n",
       "3                                     Aviation   \n",
       "4  Biography/WikiProject Actors and Filmmakers   \n",
       "\n",
       "                                            rel_docs  \n",
       "0  [572, 627, 678, 903, 1193, 1542, 1634, 3751, 3...  \n",
       "1  [621, 809, 1380, 6641, 8311, 8937, 13134, 1446...  \n",
       "2  [39, 308, 580, 664, 736, 748, 791, 798, 799, 1...  \n",
       "3  [849, 852, 1293, 1902, 1942, 2039, 2075, 2082,...  \n",
       "4  [344, 676, 808, 872, 1247, 1806, 1828, 2083, 2...  "
      ]
     },
     "execution_count": 3,
     "metadata": {},
     "output_type": "execute_result"
    }
   ],
   "source": [
    "# Loading dataset \n",
    "queries = pd.read_json('data/train_topics_meta.jsonl', orient='columns')\n",
    "# drop URL column\n",
    "queries = queries.drop(columns='URL')\n",
    "\n",
    "queries.head()"
   ]
  },
  {
   "cell_type": "code",
   "execution_count": 4,
   "id": "86e02118-1437-4d9c-bccb-5a147bbf1afa",
   "metadata": {},
   "outputs": [
    {
     "name": "stdout",
     "output_type": "stream",
     "text": [
      "<class 'pandas.core.frame.DataFrame'>\n",
      "Int64Index: 46 entries, 0 to 45\n",
      "Data columns (total 4 columns):\n",
      " #   Column    Non-Null Count  Dtype \n",
      "---  ------    --------------  ----- \n",
      " 0   id        46 non-null     int64 \n",
      " 1   keywords  46 non-null     object\n",
      " 2   title     46 non-null     object\n",
      " 3   rel_docs  46 non-null     object\n",
      "dtypes: int64(1), object(3)\n",
      "memory usage: 1.8+ KB\n"
     ]
    }
   ],
   "source": [
    "queries.info()"
   ]
  },
  {
   "cell_type": "code",
   "execution_count": 5,
   "id": "4eca9e30-9e36-4a71-9392-c691734d3cb5",
   "metadata": {},
   "outputs": [
    {
     "data": {
      "text/html": [
       "<div>\n",
       "<style scoped>\n",
       "    .dataframe tbody tr th:only-of-type {\n",
       "        vertical-align: middle;\n",
       "    }\n",
       "\n",
       "    .dataframe tbody tr th {\n",
       "        vertical-align: top;\n",
       "    }\n",
       "\n",
       "    .dataframe thead th {\n",
       "        text-align: right;\n",
       "    }\n",
       "</style>\n",
       "<table border=\"1\" class=\"dataframe\">\n",
       "  <thead>\n",
       "    <tr style=\"text-align: right;\">\n",
       "      <th></th>\n",
       "      <th>id</th>\n",
       "      <th>keywords</th>\n",
       "      <th>title</th>\n",
       "      <th>rel_docs</th>\n",
       "    </tr>\n",
       "  </thead>\n",
       "  <tbody>\n",
       "    <tr>\n",
       "      <th>0</th>\n",
       "      <td>84</td>\n",
       "      <td>[cultivated, agricultural, maize, corn, fruit,...</td>\n",
       "      <td>Agriculture</td>\n",
       "      <td>[572, 627, 678, 903, 1193, 1542, 1634, 3751, 3...</td>\n",
       "    </tr>\n",
       "    <tr>\n",
       "      <th>1</th>\n",
       "      <td>111</td>\n",
       "      <td>[reptile, lizard, salamander, fossil, frog, pr...</td>\n",
       "      <td>Amphibians and Reptiles</td>\n",
       "      <td>[621, 809, 1380, 6641, 8311, 8937, 13134, 1446...</td>\n",
       "    </tr>\n",
       "    <tr>\n",
       "      <th>2</th>\n",
       "      <td>265</td>\n",
       "      <td>[astronomer, astronomy, astrophysicist, mathem...</td>\n",
       "      <td>Astronomy</td>\n",
       "      <td>[39, 308, 580, 664, 736, 748, 791, 798, 799, 1...</td>\n",
       "    </tr>\n",
       "    <tr>\n",
       "      <th>3</th>\n",
       "      <td>323</td>\n",
       "      <td>[aviation, airfield, airport, aerospace, aircr...</td>\n",
       "      <td>Aviation</td>\n",
       "      <td>[849, 852, 1293, 1902, 1942, 2039, 2075, 2082,...</td>\n",
       "    </tr>\n",
       "    <tr>\n",
       "      <th>4</th>\n",
       "      <td>396</td>\n",
       "      <td>[actor, cast, screenwriter, filmmaker, film, a...</td>\n",
       "      <td>Biography/WikiProject Actors and Filmmakers</td>\n",
       "      <td>[344, 676, 808, 872, 1247, 1806, 1828, 2083, 2...</td>\n",
       "    </tr>\n",
       "  </tbody>\n",
       "</table>\n",
       "</div>"
      ],
      "text/plain": [
       "    id                                           keywords  \\\n",
       "0   84  [cultivated, agricultural, maize, corn, fruit,...   \n",
       "1  111  [reptile, lizard, salamander, fossil, frog, pr...   \n",
       "2  265  [astronomer, astronomy, astrophysicist, mathem...   \n",
       "3  323  [aviation, airfield, airport, aerospace, aircr...   \n",
       "4  396  [actor, cast, screenwriter, filmmaker, film, a...   \n",
       "\n",
       "                                         title  \\\n",
       "0                                  Agriculture   \n",
       "1                      Amphibians and Reptiles   \n",
       "2                                    Astronomy   \n",
       "3                                     Aviation   \n",
       "4  Biography/WikiProject Actors and Filmmakers   \n",
       "\n",
       "                                            rel_docs  \n",
       "0  [572, 627, 678, 903, 1193, 1542, 1634, 3751, 3...  \n",
       "1  [621, 809, 1380, 6641, 8311, 8937, 13134, 1446...  \n",
       "2  [39, 308, 580, 664, 736, 748, 791, 798, 799, 1...  \n",
       "3  [849, 852, 1293, 1902, 1942, 2039, 2075, 2082,...  \n",
       "4  [344, 676, 808, 872, 1247, 1806, 1828, 2083, 2...  "
      ]
     },
     "execution_count": 5,
     "metadata": {},
     "output_type": "execute_result"
    }
   ],
   "source": [
    "# convert string representatin of lists back to lists\n",
    "queries['keywords'] = queries['keywords'].str.strip('][').str.replace(\"'\", \"\").str.split(', ')\n",
    "queries['rel_docs'] = queries['rel_docs'].str.strip('][').str.split(', ')\n",
    "queries['rel_docs'] = queries['rel_docs'].apply(lambda l: [int(s) for s in l])\n",
    "\n",
    "queries.head()"
   ]
  },
  {
   "cell_type": "code",
   "execution_count": 6,
   "id": "2956896a",
   "metadata": {},
   "outputs": [
    {
     "data": {
      "text/plain": [
       "0    [cultivated, agricultural, maize, corn, fruit,...\n",
       "1    [reptile, lizard, salamander, fossil, frog, pr...\n",
       "2    [astronomer, astronomy, astrophysicist, mathem...\n",
       "3    [aviation, airfield, airport, aerospace, aircr...\n",
       "4    [actor, cast, screenwriter, filmmaker, film, a...\n",
       "Name: keywords, dtype: object"
      ]
     },
     "execution_count": 6,
     "metadata": {},
     "output_type": "execute_result"
    }
   ],
   "source": [
    "# ========= Lower case whole column =========\n",
    "queries['keywords'] = queries['keywords'].apply(lambda l: [s.lower() for s in l])\n",
    "queries['keywords'].head()"
   ]
  },
  {
   "cell_type": "code",
   "execution_count": 7,
   "id": "a42e44b3",
   "metadata": {},
   "outputs": [
    {
     "data": {
      "text/plain": [
       "0    [cultivated, agricultural, maize, corn, fruit,...\n",
       "1    [reptile, lizard, salamander, fossil, frog, pr...\n",
       "2    [astronomer, astronomy, astrophysicist, mathem...\n",
       "3    [aviation, airfield, airport, aerospace, aircr...\n",
       "4    [actor, cast, screenwriter, filmmaker, film, a...\n",
       "Name: keywords, dtype: object"
      ]
     },
     "execution_count": 7,
     "metadata": {},
     "output_type": "execute_result"
    }
   ],
   "source": [
    "# ========= Removing special characters =========\n",
    "import re\n",
    "\n",
    "def remove_spec_char(plain_text):\n",
    "    plain_text = re.sub('[^a-zA-Z0-9]', ' ', plain_text)\n",
    "    plain_text = re.sub('\\s+', ' ', plain_text)\n",
    "    return plain_text\n",
    "\n",
    "queries['keywords'] = queries['keywords'].apply(lambda l : [remove_spec_char(s) for s in l])\n",
    "\n",
    "queries['keywords'].head()"
   ]
  },
  {
   "cell_type": "code",
   "execution_count": 8,
   "id": "db92b14b-93a9-4576-88cc-c47716aee96b",
   "metadata": {},
   "outputs": [],
   "source": [
    "ps = PorterStemmer()\n",
    "def stem_words(plain_text):\n",
    "    return ' '.join([ps.stem(word) for word in plain_text.split()])\n",
    "\n",
    "queries['keywords'] = queries['keywords'].apply(lambda l : [stem_words(s) for s in l])"
   ]
  },
  {
   "cell_type": "code",
   "execution_count": 9,
   "id": "fd0a0e7a",
   "metadata": {},
   "outputs": [],
   "source": [
    "# ========= Lemmatization =========\n",
    "#from nltk import pos_tag\n",
    "#from nltk.corpus import wordnet\n",
    "#nltk.download('wordnet')\n",
    "#nltk.download('omw-1.4')\n",
    "#nltk.download('averaged_perceptron_tagger')\n",
    "#from nltk.stem import WordNetLemmatizer\n",
    "\n",
    "#lemmatizer = WordNetLemmatizer()\n",
    "#wordnet_map = {'N':wordnet.NOUN, 'V':wordnet.VERB, 'J':wordnet.ADJ, 'R':wordnet.ADV}\n",
    "\n",
    "#def lemmatize_word(plain_text):\n",
    "#    # Finind pos tags\n",
    "#    pos_text = pos_tag(plain_text.split())\n",
    "#    return ' '.join([lemmatizer.lemmatize(word, wordnet_map.get(pos[0], wordnet.NOUN)) for word, pos in pos_text])\n",
    "\n",
    "#queries['keywords'] = queries['keywords'].apply(lambda l : [lemmatize_word(s) for s in l])\n",
    "\n",
    "#queries['keywords'].head()"
   ]
  },
  {
   "cell_type": "code",
   "execution_count": 10,
   "id": "44f6ea80-180a-47b1-a5da-0da8433594e4",
   "metadata": {},
   "outputs": [
    {
     "data": {
      "text/html": [
       "<div>\n",
       "<style scoped>\n",
       "    .dataframe tbody tr th:only-of-type {\n",
       "        vertical-align: middle;\n",
       "    }\n",
       "\n",
       "    .dataframe tbody tr th {\n",
       "        vertical-align: top;\n",
       "    }\n",
       "\n",
       "    .dataframe thead th {\n",
       "        text-align: right;\n",
       "    }\n",
       "</style>\n",
       "<table border=\"1\" class=\"dataframe\">\n",
       "  <thead>\n",
       "    <tr style=\"text-align: right;\">\n",
       "      <th></th>\n",
       "      <th>id</th>\n",
       "      <th>keywords</th>\n",
       "      <th>title</th>\n",
       "      <th>rel_docs</th>\n",
       "    </tr>\n",
       "  </thead>\n",
       "  <tbody>\n",
       "    <tr>\n",
       "      <th>0</th>\n",
       "      <td>84</td>\n",
       "      <td>[cultiv, agricultur, maiz, corn, fruit, wheat,...</td>\n",
       "      <td>Agriculture</td>\n",
       "      <td>[572, 627, 678, 903, 1193, 1542, 1634, 3751, 3...</td>\n",
       "    </tr>\n",
       "    <tr>\n",
       "      <th>1</th>\n",
       "      <td>111</td>\n",
       "      <td>[reptil, lizard, salamand, fossil, frog, prehi...</td>\n",
       "      <td>Amphibians and Reptiles</td>\n",
       "      <td>[621, 809, 1380, 6641, 8311, 8937, 13134, 1446...</td>\n",
       "    </tr>\n",
       "    <tr>\n",
       "      <th>2</th>\n",
       "      <td>265</td>\n",
       "      <td>[astronom, astronomi, astrophysicist, mathemat...</td>\n",
       "      <td>Astronomy</td>\n",
       "      <td>[39, 308, 580, 664, 736, 748, 791, 798, 799, 1...</td>\n",
       "    </tr>\n",
       "    <tr>\n",
       "      <th>3</th>\n",
       "      <td>323</td>\n",
       "      <td>[aviat, airfield, airport, aerospac, aircraft,...</td>\n",
       "      <td>Aviation</td>\n",
       "      <td>[849, 852, 1293, 1902, 1942, 2039, 2075, 2082,...</td>\n",
       "    </tr>\n",
       "    <tr>\n",
       "      <th>4</th>\n",
       "      <td>396</td>\n",
       "      <td>[actor, cast, screenwrit, filmmak, film, actre...</td>\n",
       "      <td>Biography/WikiProject Actors and Filmmakers</td>\n",
       "      <td>[344, 676, 808, 872, 1247, 1806, 1828, 2083, 2...</td>\n",
       "    </tr>\n",
       "  </tbody>\n",
       "</table>\n",
       "</div>"
      ],
      "text/plain": [
       "    id                                           keywords  \\\n",
       "0   84  [cultiv, agricultur, maiz, corn, fruit, wheat,...   \n",
       "1  111  [reptil, lizard, salamand, fossil, frog, prehi...   \n",
       "2  265  [astronom, astronomi, astrophysicist, mathemat...   \n",
       "3  323  [aviat, airfield, airport, aerospac, aircraft,...   \n",
       "4  396  [actor, cast, screenwrit, filmmak, film, actre...   \n",
       "\n",
       "                                         title  \\\n",
       "0                                  Agriculture   \n",
       "1                      Amphibians and Reptiles   \n",
       "2                                    Astronomy   \n",
       "3                                     Aviation   \n",
       "4  Biography/WikiProject Actors and Filmmakers   \n",
       "\n",
       "                                            rel_docs  \n",
       "0  [572, 627, 678, 903, 1193, 1542, 1634, 3751, 3...  \n",
       "1  [621, 809, 1380, 6641, 8311, 8937, 13134, 1446...  \n",
       "2  [39, 308, 580, 664, 736, 748, 791, 798, 799, 1...  \n",
       "3  [849, 852, 1293, 1902, 1942, 2039, 2075, 2082,...  \n",
       "4  [344, 676, 808, 872, 1247, 1806, 1828, 2083, 2...  "
      ]
     },
     "execution_count": 10,
     "metadata": {},
     "output_type": "execute_result"
    }
   ],
   "source": [
    "queries.head()"
   ]
  },
  {
   "cell_type": "code",
   "execution_count": 11,
   "id": "27f1afb4-7fc2-4b0e-9e85-cd73b6d1b285",
   "metadata": {},
   "outputs": [],
   "source": [
    "# save file\n",
    "queries.to_csv('data/preprocessed_query_data.csv', index=False)"
   ]
  }
 ],
 "metadata": {
  "kernelspec": {
   "display_name": "Python 3 (ipykernel)",
   "language": "python",
   "name": "python3"
  },
  "language_info": {
   "codemirror_mode": {
    "name": "ipython",
    "version": 3
   },
   "file_extension": ".py",
   "mimetype": "text/x-python",
   "name": "python",
   "nbconvert_exporter": "python",
   "pygments_lexer": "ipython3",
   "version": "3.8.6"
  },
  "vscode": {
   "interpreter": {
    "hash": "e3eb97f31843337c09a0fbe362ad0d1c57a4e5245c09f964828f772eab390a01"
   }
  }
 },
 "nbformat": 4,
 "nbformat_minor": 5
}
