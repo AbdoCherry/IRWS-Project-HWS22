{
 "cells": [
  {
   "cell_type": "markdown",
   "id": "e6d83f0b-835f-4dc6-ad98-2458a5ae41f8",
   "metadata": {},
   "source": [
    "# Data Preprocsesing"
   ]
  },
  {
   "cell_type": "code",
   "execution_count": 1,
   "id": "4194b204-97bd-4769-b0a4-63ae135a0da7",
   "metadata": {},
   "outputs": [],
   "source": [
    "import json"
   ]
  },
  {
   "cell_type": "code",
   "execution_count": 5,
   "id": "e92ca95b-dcb3-4490-abff-c6df385eaedf",
   "metadata": {},
   "outputs": [
    {
     "name": "stdout",
     "output_type": "stream",
     "text": [
      "{'id': 12148915, 'title': 'Keith Osik', 'url': 'https://en.wikipedia.org/wiki/Keith_Osik', 'plain': 'Keith Richard Osik (born October 22, 1968), is a former Major League Baseball catcher who played in the major leagues from -. He played for the Milwaukee Brewers, Pittsburgh Pirates, Baltimore Orioles, and Washington Nationals. He was drafted in the 24th round of the  MLB Draft. His brother was also a professional baseball player, but only played in the minors. He was born in Port Washington, New York, but now lives in Shoreham, New York.\\n\\nOsik is currently the head baseball coach at Farmingdale State College, a Division III institution located on Long Island in New York. He was inducted into the Suffolk Sports Hall of Fame on Long Island in the Baseball Category with the Class of 2008.\\n\\nExternal links\\n\\n1968 births\\nLiving people\\nMajor League Baseball catchers\\nBaseball players from New York (state)\\nPeople from Port Washington, New York\\nMilwaukee Brewers players\\nPittsburgh Pirates players\\nBaltimore Orioles players\\nWashington Nationals players\\nBuffalo Bisons (minor league) players\\nNashville Sounds players\\nDurham Bulls players\\nAlbuquerque Isotopes players\\nNew Orleans Zephyrs players\\nFarmingdale State Rams baseball coaches'}\n",
      "\n",
      "\n",
      "############\n",
      "\n",
      "\n",
      "{'id': 16752449, 'title': 'Swansons Landing, Texas', 'url': 'https://en.wikipedia.org/wiki/Swansons_Landing,_Texas', 'plain': 'Swansons Landing is a settlement and former inland port in Harrison County, Texas, United States, south of Caddo Lake.\\n\\nReferences\\n\\nGeography of Harrison County, Texas\\nUnincorporated communities in Texas'}\n",
      "\n",
      "\n",
      "############\n",
      "\n",
      "\n",
      "{'id': 31967453, 'title': 'Mike Potts', 'url': 'https://en.wikipedia.org/wiki/Mike_Potts', 'plain': 'Mike or Michael Potts may refer to:\\n Michael Potts (actor), American actor\\n Michael Potts (footballer) (born 1991), English footballer\\n Mike Potts (baseball) (born 1970), former left-handed Major League Baseball relief pitcher\\n Mike Potts (American football) (born 1985), American football quarterback\\n Michael Potts (diplomat), Australian diplomat'}\n",
      "\n",
      "\n",
      "############\n",
      "\n",
      "\n",
      "{'id': 47436994, 'title': 'Shuker', 'url': 'https://en.wikipedia.org/wiki/Shuker', 'plain': 'Shuker is a surname. Notable people with the surname include:\\n\\n Abraham Shuker (1848–1909), cricketer\\n Chris Shuker (born 1982), football coach and former football midfielder\\n Gavin Shuker (born 1981), politician\\n John Shuker (1942–2019), professional footballer\\n Karl Shuker (born 1959), zoologist, cryptozoologist and author\\n Lucy Shuker (born 1980), wheelchair tennis player'}\n",
      "\n",
      "\n",
      "############\n",
      "\n",
      "\n",
      "{'id': 13924699, 'title': 'William Clark (inventor)', 'url': 'https://en.wikipedia.org/wiki/William_Clark_(inventor)', 'plain': \"William Clark (17 March 1821 – 22 January 1880) was an English civil engineer and inventor.\\n\\nLife\\n\\nBorn at Colchester, Clark attended King's College London in 1842, and was made an Associate of King's College in 1845. Soon afterwards he became a pupil of, and subsequently an assistant to, J. Birkinshaw, M. Inst. C.E., under whom he was employed for three years on the works of the York and North Midland railway system. In 1850 he was connected with Sir Goldsworthy Gurney in the warming and ventilation of the houses of parliament. In 1851 he entered into partnership with A. W. Makinson, M. Inst. C.E., the firm devoting special attention to the warming and ventilating of public buildings. He shortly afterwards obtained the appointment of surveyor to the local board of health of Kingston-upon-Hull, and devised a complete system of drainage for that town.\\n\\nIn 1854 he entered the service of the East Indian Railway Company, and, after acting for a year as resident engineer on a portion of the East India railway, became the secretary and subsequently the engineer to the municipality of Calcutta. Clark devoted himself with zeal to his work, and very soon proposed a complete scheme for the drainage of the city, only imperfectly carried out owing to the expense. He also devised a system of waterworks, comprising three large pumping stations, with their filter beds and settling tanks.\\n\\nHe returned to England in 1874, when he entered into partnership with W. F. Batho, M. Inst. C.E., and in the same year received the appointment of consulting engineer to the Oudh and Rohilkund Railway Company. In December 1874 he visited Madras, where he remained four months planning a system of drainage for that city. He was selected by the colonial office in 1876, in concert with the government of New South Wales, to advise and report upon the water supply and drainage of Sydney. During a residence of two years in the Australian colonies he prepared schemes of a like description for Port Adelaide, Newcastle, Bathurst, Goulburn, Orange, Maitland (the Walka Water Works), and Brisbane, and afterwards for Wellington and Christchurch in New Zealand.\\n\\nAmong Clark's inventions was his tied brick arch, of which examples exist in Calcutta and in other places in India; and he was joint patentee with William F. Batho of the well-known steam road roller. Among his schemes was a proposal for reclaiming the salt-water lakes in the neighbourhood of Calcutta. He was elected a member of the Institution of Civil Engineers on 2 February 1864, and a member of the Institution of Mechanical Engineers in 1867.\\n\\nHe died from liver disease, at Surbiton, on 22 January 1880. He was the writer of The Drainage of Calcutta, 1871.\\n\\nReferences\\n\\n1821 births\\n1880 deaths\\nEnglish civil engineers\\n19th-century British inventors\\nAlumni of King's College London\\nAssociates of King's College\"}\n",
      "\n",
      "\n",
      "############\n",
      "\n",
      "\n"
     ]
    }
   ],
   "source": [
    "with open('data/trec_corpus_20220301_plain.json') as read_from_file:\n",
    "    with open('data/preprocessed_corputs.csv', 'a') as write_to_file:\n",
    "        \n",
    "        # write header of csv file\n",
    "        write_to_file.write('id, text')\n",
    "        doc = read_from_file.readline()\n",
    "\n",
    "        for i in range(5): # while doc:\n",
    "            \n",
    "            # parse json\n",
    "            doc_parsed = json.loads(doc)\n",
    "            doc_id = doc_parsed['id']\n",
    "            doc_text = doc_parsed['title'] + ' ' + doc_parsed['plain']\n",
    "            \n",
    "            print(doc_parsed)\n",
    "            print('\\n\\n############\\n\\n')\n",
    "\n",
    "            # do preprocessing\n",
    "            preprocessed_text = 'test test test test test'\n",
    "\n",
    "            # write preprocessed document to file (append)\n",
    "            write_to_file.write(f'{doc_id}, {preprocessed_text}\\n')\n",
    "\n",
    "            # read next line\n",
    "            doc = read_from_file.readline()"
   ]
  },
  {
   "cell_type": "code",
   "execution_count": null,
   "id": "3ae10a83-f8fa-462a-8a3d-52aab036c3f1",
   "metadata": {},
   "outputs": [],
   "source": []
  }
 ],
 "metadata": {
  "kernelspec": {
   "display_name": "Python 3 (ipykernel)",
   "language": "python",
   "name": "python3"
  },
  "language_info": {
   "codemirror_mode": {
    "name": "ipython",
    "version": 3
   },
   "file_extension": ".py",
   "mimetype": "text/x-python",
   "name": "python",
   "nbconvert_exporter": "python",
   "pygments_lexer": "ipython3",
   "version": "3.9.12"
  }
 },
 "nbformat": 4,
 "nbformat_minor": 5
}
