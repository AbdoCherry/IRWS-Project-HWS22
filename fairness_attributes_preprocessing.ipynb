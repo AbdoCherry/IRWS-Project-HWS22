{
 "cells": [
  {
   "cell_type": "markdown",
   "id": "8f6680c0-fad5-4b6b-b334-18bee3280efc",
   "metadata": {},
   "source": [
    "# Preprocessing of the fairness attributes data set"
   ]
  },
  {
   "cell_type": "code",
   "execution_count": 1,
   "id": "3704c2d5-7fa9-4758-b79b-ad3e951a9f16",
   "metadata": {},
   "outputs": [],
   "source": [
    "import pandas as pd"
   ]
  },
  {
   "cell_type": "code",
   "execution_count": 2,
   "id": "bfce2658-b115-4e5d-a21f-effdcb17cb3a",
   "metadata": {},
   "outputs": [],
   "source": [
    "def read_and_preprocess_fairness_attributes(filepath='data/trec_2022_articles_discrete.json', subcont_regions_only=False, sample=False):\n",
    "    '''\n",
    "    Use this function to read the fairness attributes file and preprocess it.\n",
    "    The preprocessing includes:\n",
    "        - removing columns that are unrelated to fairness\n",
    "        - removing attributes where similar easier to handle categorical attributes are available\n",
    "        - normalizing lists and nested json objects\n",
    "        - one-hot-encoding categorical attributes\n",
    "        \n",
    "    :param filepath str: path of fairnett attributes file\n",
    "    :param subcont_regions_only bool: if True, only use data of subcontinental regions and drop countries\n",
    "    :param sample bool/int: if integer value is specified, only read this amount of lines (for testing purposes)\n",
    "    :return: pandas Dataframe with preprocessed fairness attributes\n",
    "    '''\n",
    "    \n",
    "    # read fairness attributes data\n",
    "    print('reading file... ', end='')\n",
    "    if sample:\n",
    "        attributes = pd.read_json(filepath, lines=True, nrows=sample)\n",
    "    else:\n",
    "        attributes = pd.read_json(filepath, lines=True)\n",
    "    \n",
    "    # drop firstletter\n",
    "    attributes = attributes.drop(columns=['first_letter', 'first_letter_category'])\n",
    "    \n",
    "    # some attributes are supplied as categorical values as well\n",
    "    # for example: years and years_category\n",
    "    # only keep categorical values for simplicity\n",
    "    attributes = attributes.drop(columns=[\n",
    "        'pred_qual', # -> qual_cat\n",
    "        'gender', # -> gender_category\n",
    "        'years', # -> years_category\n",
    "        'num_sitelinks', # -> num_sitelinks_category\n",
    "        'relative_pageviews', # ->relative_pageviews_category\n",
    "        'creation_date', # -> creation_date_category\n",
    "    ])\n",
    "    \n",
    "    # one-hot-encode categorical attributes\n",
    "    print('one-hot-encoding categorical attributes... ', end='')\n",
    "    cat_cols = ['qual_cat', 'gender_category', 'years_category', 'num_sitelinks_category', 'relative_pageviews_category', 'creation_date_category']\n",
    "    for col in cat_cols:\n",
    "        dummies = pd.get_dummies(attributes[col])\n",
    "        dummies.columns = [col + '_' + inner_col for inner_col in dummies.columns]\n",
    "        attributes = attributes.drop(columns=col)\n",
    "        attributes = pd.concat([attributes, dummies], axis=1)\n",
    "    \n",
    "    # normalize lists\n",
    "    print('normalizing lists... ', end='')\n",
    "    if subcont_regions_only:\n",
    "        attributes = attributes.drop(columns='page_countries')\n",
    "        list_cols = ['page_subcont_regions', 'occupations']\n",
    "    else:\n",
    "        list_cols = ['page_countries', 'page_subcont_regions', 'occupations']\n",
    "    for col in list_cols:\n",
    "        unnested_data = attributes[col].str.join(',').str.get_dummies(sep=',').astype(bool)\n",
    "        unnested_data.columns = [col + '_' + inner_col for inner_col in unnested_data.columns]\n",
    "        attributes = attributes.drop(columns=col)\n",
    "        attributes = pd.concat([attributes, unnested_data], axis=1)\n",
    "        \n",
    "    # normalize nested dicts\n",
    "    print('normalizing nested dicts... ', end='')\n",
    "    if subcont_regions_only:\n",
    "        attributes = attributes.drop(columns='source_countries')\n",
    "        dict_cols = ['source_subcont_regions']\n",
    "    else:\n",
    "        dict_cols = ['source_countries', 'source_subcont_regions']\n",
    "    for col in dict_cols:\n",
    "        unnested_data = pd.json_normalize(attributes[col])\n",
    "        unnested_data = unnested_data.fillna(0)\n",
    "        unnested_data = unnested_data.astype(int)\n",
    "        unnested_data.columns = [col + '_' + inner_col for inner_col in unnested_data.columns]\n",
    "        attributes = attributes.drop(columns=col)\n",
    "        attributes = pd.concat([attributes, unnested_data], axis=1)\n",
    "        \n",
    "    # set page_id as index\n",
    "    attributes = attributes.set_index('page_id')\n",
    "    \n",
    "    return attributes"
   ]
  },
  {
   "cell_type": "code",
   "execution_count": null,
   "id": "92763f30-582d-4c4e-9d9e-c913c8800c9c",
   "metadata": {},
   "outputs": [
    {
     "name": "stdout",
     "output_type": "stream",
     "text": [
      "reading file... one-hot-encoding categorical attributes... normalizing lists... normalizing nested dicts... "
     ]
    }
   ],
   "source": [
    "# apply function and save file\n",
    "preprocessed_fairness_attributes = read_and_preprocess_fairness_attributes()\n",
    "preprocessed_fairness_attributes.to_csv('data/preprocessed_fairness_attributes.csv', index=True)"
   ]
  },
  {
   "cell_type": "code",
   "execution_count": null,
   "id": "3e624f84-c1b6-4534-a569-c10d0ebb7686",
   "metadata": {},
   "outputs": [],
   "source": [
    "# apply function and save file\n",
    "preprocessed_fairness_attributes_small = read_and_preprocess_fairness_attributes(subcont_regions_only=True)\n",
    "preprocessed_fairness_attributes_small.to_csv('data/preprocessed_fairness_attributes_small.csv', index=True)"
   ]
  }
 ],
 "metadata": {
  "kernelspec": {
   "display_name": "Python 3 (ipykernel)",
   "language": "python",
   "name": "python3"
  },
  "language_info": {
   "codemirror_mode": {
    "name": "ipython",
    "version": 3
   },
   "file_extension": ".py",
   "mimetype": "text/x-python",
   "name": "python",
   "nbconvert_exporter": "python",
   "pygments_lexer": "ipython3",
   "version": "3.8.6"
  }
 },
 "nbformat": 4,
 "nbformat_minor": 5
}
